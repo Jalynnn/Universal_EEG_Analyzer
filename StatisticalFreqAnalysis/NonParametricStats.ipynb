{
 "cells": [
  {
   "cell_type": "markdown",
   "id": "d87e5460",
   "metadata": {},
   "source": [
    "Modified Python version of Cara's 2024 R script attached as the .rmd file"
   ]
  },
  {
   "cell_type": "markdown",
   "id": "44415577",
   "metadata": {},
   "source": [
    "# Ratios"
   ]
  },
  {
   "cell_type": "markdown",
   "id": "6dc512c1",
   "metadata": {},
   "source": [
    "## Import and Clean Data"
   ]
  },
  {
   "cell_type": "code",
   "execution_count": 89,
   "id": "2d2b5e26",
   "metadata": {},
   "outputs": [],
   "source": [
    "# # I use the anaconda prompt with my Universal_EEG_Analyzer\n",
    "# # conda activate Universal_EEG_Analyzer\n",
    "# # pip install ...\n",
    "# # Here is code to find location of kernel\n",
    "# import sys\n",
    "# print(sys.executable)"
   ]
  },
  {
   "cell_type": "code",
   "execution_count": 90,
   "id": "f48122b3",
   "metadata": {},
   "outputs": [],
   "source": [
    "# Libraries\n",
    "import pandas as pd\n",
    "import scipy.stats as stats\n",
    "import pingouin as pg\n",
    "import scikit_posthocs as sp\n",
    "import seaborn as sns\n",
    "import matplotlib.pyplot as plt"
   ]
  },
  {
   "cell_type": "code",
   "execution_count": 91,
   "id": "1d4a3ffa",
   "metadata": {},
   "outputs": [],
   "source": [
    "# Load the dataset\n",
    "file_path = \"C:/Users/Jalynn/OneDrive/Documents/GitHub/Universal_EEG_Analyzer/StudyTwoGermaneLoadAnalysis/GammaResults2/All_Ratios_Summary.csv\"\n",
    "df = pd.read_csv(file_path)"
   ]
  },
  {
   "cell_type": "code",
   "execution_count": 92,
   "id": "2aeab22d",
   "metadata": {},
   "outputs": [
    {
     "name": "stdout",
     "output_type": "stream",
     "text": [
      "    LowGermane_ratio1  LowGermane_ratio2  HighGermane_ratio1  \\\n",
      "0            0.261785           0.097010            0.287086   \n",
      "1            0.283345           0.077160            0.250629   \n",
      "2            0.257052           0.065430            0.266024   \n",
      "3            0.287995           0.092861            0.530054   \n",
      "4            0.289758           0.086993            0.293747   \n",
      "5            0.265653           0.085028            0.314447   \n",
      "6            0.294471           0.082769            0.305896   \n",
      "7            0.251311           0.083555            0.284458   \n",
      "8            0.316852           0.100841            0.412281   \n",
      "9            0.183637           0.061536            0.192323   \n",
      "10           0.303056           0.080033            0.258338   \n",
      "11           0.247184           0.081636            0.301587   \n",
      "12           0.226121           0.085101            0.289038   \n",
      "13           0.243579           0.074527            0.293721   \n",
      "14           0.226290           0.070257            0.277449   \n",
      "15           0.208938           0.074754            0.247915   \n",
      "16           0.278746           0.102184            0.272687   \n",
      "17           0.233037           0.086383            0.290828   \n",
      "18           0.308342           0.092753            0.302249   \n",
      "19           0.227055           0.076229            0.216286   \n",
      "20           0.277202           0.087081            0.274836   \n",
      "21           0.250998           0.074055            0.263908   \n",
      "22           0.265562           0.088094            0.309586   \n",
      "23           0.268897           0.078081            0.417162   \n",
      "24           0.266703           0.086678            0.330062   \n",
      "25           0.363209           0.095680            0.268449   \n",
      "26           0.229378           0.050914            0.160225   \n",
      "27           0.237292           0.069343            0.284055   \n",
      "28           0.228406           0.081122            0.274520   \n",
      "29           0.784120           0.051083            0.302545   \n",
      "30           0.266021           0.083989            0.328889   \n",
      "31           0.176735           0.090607            0.513708   \n",
      "32           0.233586           0.083078            0.263722   \n",
      "33           0.237980           0.101205            0.564088   \n",
      "34           0.419950           0.149274            0.188427   \n",
      "35           0.248781           0.101402            0.313653   \n",
      "36           0.264041           0.087570            0.280147   \n",
      "37           0.193693           0.090582            0.219403   \n",
      "38           0.369572           0.079995            0.226086   \n",
      "39           0.214452           0.074674            0.072131   \n",
      "40           1.398585           0.106705            0.631792   \n",
      "41           0.407926           0.094681            0.304005   \n",
      "42           0.292917           0.085871            0.306424   \n",
      "43           0.301345           0.090574            0.190139   \n",
      "44           0.327744           0.080251            7.083529   \n",
      "45           0.310575           0.093169            0.241290   \n",
      "46           0.058319           0.061244            0.282578   \n",
      "47           0.307633           0.095505            0.353059   \n",
      "48           0.233573           0.085688            0.794715   \n",
      "49           0.354569           0.395514            0.267122   \n",
      "\n",
      "    HighGermane_ratio2 PID  Phase Condition  \n",
      "0             0.098088  02  train     train  \n",
      "1             0.083527  03  train     train  \n",
      "2             0.080363  04  train     train  \n",
      "3             0.095746  05  train     train  \n",
      "4             0.089057  07  train     train  \n",
      "5             0.086034  08  train     train  \n",
      "6             0.085164  10  train     train  \n",
      "7             0.089701  11  train     train  \n",
      "8             0.123709  12  train     train  \n",
      "9             0.064137  13  train     train  \n",
      "10            0.097677  14  train     train  \n",
      "11            0.087768  15  train     train  \n",
      "12            0.086780  16  train     train  \n",
      "13            0.082947  17  train     train  \n",
      "14            0.068317  18  train     train  \n",
      "15            0.079006  19  train     train  \n",
      "16            0.092371  20  train     train  \n",
      "17            0.079053  22  train     train  \n",
      "18            0.085644  23  train     train  \n",
      "19            0.072170  26  train     train  \n",
      "20            0.091292  27  train     train  \n",
      "21            0.079748  28  train     train  \n",
      "22            0.091190  29  train     train  \n",
      "23            0.079064  31  train     train  \n",
      "24            0.086164  32  train     train  \n",
      "25            0.090240  02   test      test  \n",
      "26            0.074473  03   test      test  \n",
      "27            0.061754  04   test      test  \n",
      "28            0.089510  05   test      test  \n",
      "29            0.092090  07   test      test  \n",
      "30            0.086617  08   test      test  \n",
      "31            0.085824  10   test      test  \n",
      "32            0.089050  11   test      test  \n",
      "33            0.159521  12   test      test  \n",
      "34            0.127525  13   test      test  \n",
      "35            0.092792  14   test      test  \n",
      "36            0.085567  15   test      test  \n",
      "37            0.084299  16   test      test  \n",
      "38            0.062986  17   test      test  \n",
      "39            0.051586  18   test      test  \n",
      "40            0.073985  19   test      test  \n",
      "41            0.096560  20   test      test  \n",
      "42            0.083051  22   test      test  \n",
      "43            0.088683  23   test      test  \n",
      "44            0.051923  26   test      test  \n",
      "45            0.079287  27   test      test  \n",
      "46            0.071616  28   test      test  \n",
      "47            0.098786  29   test      test  \n",
      "48            0.069945  31   test      test  \n",
      "49            0.080020  32   test      test  \n"
     ]
    }
   ],
   "source": [
    "# Added for testing with ptps not completely finished\n",
    "data_cols = [col for col in df.columns if col != 'PIDPhase']\n",
    "df = df.dropna(subset=data_cols, how='all')\n",
    "\n",
    "# Split PXX_phase into PXX and phase columns\n",
    "df[['PID', 'Phase']] = df['PIDPhase'].astype(str).str.extract(r'P(\\d+)_([A-Za-z]+)')\n",
    "df = df.drop(columns=['PIDPhase'])\n",
    "\n",
    "# Ensure condition is a factor in R/category in Python\n",
    "df['Condition'] = df['Phase'].astype('category')\n",
    "\n",
    "# Reset the index\n",
    "df = df.reset_index(drop=True)\n",
    "print(df)"
   ]
  },
  {
   "cell_type": "markdown",
   "id": "37f2e2e0",
   "metadata": {},
   "source": [
    "## Is my data normally distributed?"
   ]
  },
  {
   "cell_type": "code",
   "execution_count": 93,
   "id": "f8bb027c",
   "metadata": {},
   "outputs": [
    {
     "name": "stdout",
     "output_type": "stream",
     "text": [
      "--- Shapiro-Wilk Test for LowGermane_ratio1 ---\n",
      "Statistic: 0.8472, p-value: 1.2978326922715355e-05\n",
      "\n"
     ]
    }
   ],
   "source": [
    "# Shapiro-Wilk Text\n",
    "# Basically a t-test\n",
    "shapiro_stat, shapiro_p = stats.shapiro(df['HighGermane_ratio2'].dropna())\n",
    "print(f\"--- Shapiro-Wilk Test for LowGermane_ratio1 ---\")\n",
    "print(f\"Statistic: {shapiro_stat:.4f}, p-value: {shapiro_p}\\n\")"
   ]
  },
  {
   "cell_type": "markdown",
   "id": "b99a4b4f",
   "metadata": {},
   "source": [
    "## Ratios within conditions"
   ]
  },
  {
   "cell_type": "code",
   "execution_count": 94,
   "id": "e2d3b60f",
   "metadata": {},
   "outputs": [
    {
     "name": "stdout",
     "output_type": "stream",
     "text": [
      "\n",
      "LowGermane_ratio1 (by Phase: train vs test):\n",
      "  MWU Statistic: 264.0000, p-value: 0.3517\n",
      "  Common Language Effect Size (CLES): 0.4224\n",
      "\n",
      "LowGermane_ratio2 (by Phase: train vs test):\n",
      "  MWU Statistic: 244.0000, p-value: 0.1870\n",
      "  Common Language Effect Size (CLES): 0.3904\n",
      "\n",
      "HighGermane_ratio1 (by Phase: train vs test):\n",
      "  MWU Statistic: 320.0000, p-value: 0.8920\n",
      "  Common Language Effect Size (CLES): 0.5120\n",
      "\n",
      "HighGermane_ratio2 (by Phase: train vs test):\n",
      "  MWU Statistic: 342.0000, p-value: 0.5737\n",
      "  Common Language Effect Size (CLES): 0.5472\n"
     ]
    }
   ],
   "source": [
    "# R: wilcox.test(Cond1_ratio1 ~ Phase, data = df)\n",
    "# This is a Mann-Whitney U test (independent) comparing values between the groups in 'Phase'.\n",
    "# Get the two groups from the 'Phase' column (e.g., 'Train' and 'Test')\n",
    "# We must split the dataframe to compare the groups\n",
    "phases = df['Phase'].unique()\n",
    "if len(phases) == 2:\n",
    "    group1_data = df[df['Phase'] == phases[0]]\n",
    "    group2_data = df[df['Phase'] == phases[1]]\n",
    "    \n",
    "    ratios_to_test = [\n",
    "        \"LowGermane_ratio1\", \"LowGermane_ratio2\", \"HighGermane_ratio1\", \"HighGermane_ratio2\"\n",
    "    ]\n",
    "\n",
    "    for ratio in ratios_to_test:\n",
    "        # Get the two vectors to compare, dropping NaNs\n",
    "        x = group1_data[ratio].dropna()\n",
    "        y = group2_data[ratio].dropna()\n",
    "        \n",
    "        # Run the MWU test and get effect size using pingouin in one line\n",
    "        # Equivalent to the R cliff.delta lines\n",
    "        mwu_results = pg.mwu(x, y, alternative='two-sided')\n",
    "        \n",
    "        # Extract the values from the resulting DataFrame\n",
    "        mwu_stat = mwu_results['U-val'].iloc[0]\n",
    "        mwu_p = mwu_results['p-val'].iloc[0]\n",
    "        cles = mwu_results['CLES'].iloc[0] # Common Language Effect Size (similar to Cliff's)\n",
    "\n",
    "        print(f\"\\n{ratio} (by Phase: {phases[0]} vs {phases[1]}):\")\n",
    "        print(f\"  MWU Statistic: {mwu_stat:.4f}, p-value: {mwu_p:.4f}\")\n",
    "        # CLES is the probability that a random pick from one group\n",
    "        # will be higher than a random pick from the other.\n",
    "        print(f\"  Common Language Effect Size (CLES): {cles:.4f}\")\n",
    "else:\n",
    "    print(f\"Warning: 'Phase' column has {len(phases)} groups. MWU test is for 2 groups.\")"
   ]
  },
  {
   "cell_type": "markdown",
   "id": "ebf67d3f",
   "metadata": {},
   "source": [
    "Shapiro-Wilk Test Key finding: My p-value is always extremely close to zero. I cannot use a t-test since my data is not normally distributed.\n",
    "\n",
    "Mann-Whitney U test Key finding: When comparing the train phase to the test phase, there is no significant differences found."
   ]
  },
  {
   "cell_type": "markdown",
   "id": "9dff9d43",
   "metadata": {},
   "source": [
    "## Ratios between conditions"
   ]
  },
  {
   "cell_type": "code",
   "execution_count": 95,
   "id": "3e90224e",
   "metadata": {},
   "outputs": [
    {
     "name": "stdout",
     "output_type": "stream",
     "text": [
      "\n",
      "--- Ratios Between Conditions (Paired Wilcoxon Test) ---\n",
      "\n",
      "--- Analyzing Phase: TRAIN ---\n",
      "\n",
      "Test: LowGermane_ratio1 vs. HighGermane_ratio1\n",
      "          W-val alternative     p-val       RBC    CLES\n",
      "Wilcoxon   41.0   two-sided  0.000556 -0.747692  0.2944\n",
      "\n",
      "Test: LowGermane_ratio2 vs. HighGermane_ratio2\n",
      "          W-val alternative     p-val       RBC   CLES\n",
      "Wilcoxon   80.0   two-sided  0.025505 -0.507692  0.416\n",
      "\n",
      "--- Analyzing Phase: TEST ---\n",
      "\n",
      "Test: LowGermane_ratio1 vs. HighGermane_ratio1\n",
      "          W-val alternative     p-val       RBC    CLES\n",
      "Wilcoxon  152.0   two-sided  0.791476  0.064615  0.4736\n",
      "\n",
      "Test: LowGermane_ratio2 vs. HighGermane_ratio2\n",
      "          W-val alternative     p-val       RBC    CLES\n",
      "Wilcoxon  113.0   two-sided  0.190814  0.304615  0.5856\n"
     ]
    }
   ],
   "source": [
    "print(\"\\n--- Ratios Between Conditions (Paired Wilcoxon Test) ---\")\n",
    "\n",
    "# We loop through each Phase ('train' and 'test')\n",
    "for phase in df['Phase'].unique():\n",
    "    print(f\"\\n--- Analyzing Phase: {phase.upper()} ---\")\n",
    "    \n",
    "    # Filter the DataFrame for the current phase\n",
    "    df_phase = df[df['Phase'] == phase]\n",
    "    \n",
    "    # --- Test 1: ratio1 (Low vs High) ---\n",
    "    \n",
    "    # First, we must dropna() on BOTH columns together to keep the pairs\n",
    "    data_paired_r1 = df_phase[['LowGermane_ratio1', 'HighGermane_ratio1']].dropna()\n",
    "    \n",
    "    # Run the paired Wilcoxon test\n",
    "    paired_test_r1 = pg.wilcoxon(data_paired_r1['LowGermane_ratio1'], \n",
    "                                 data_paired_r1['HighGermane_ratio1'], \n",
    "                                 alternative='two-sided')\n",
    "    \n",
    "    print(\"\\nTest: LowGermane_ratio1 vs. HighGermane_ratio1\")\n",
    "    print(paired_test_r1)\n",
    "    \n",
    "    # --- Test 2: ratio2 (Low vs High) ---\n",
    "    \n",
    "    # Repeat for ratio2\n",
    "    data_paired_r2 = df_phase[['LowGermane_ratio2', 'HighGermane_ratio2']].dropna()\n",
    "    \n",
    "    paired_test_r2 = pg.wilcoxon(data_paired_r2['LowGermane_ratio2'], \n",
    "                                 data_paired_r2['HighGermane_ratio2'], \n",
    "                                 alternative='two-sided')\n",
    "    \n",
    "    print(\"\\nTest: LowGermane_ratio2 vs. HighGermane_ratio2\")\n",
    "    print(paired_test_r2)"
   ]
  },
  {
   "cell_type": "code",
   "execution_count": 96,
   "id": "69f5cc3a",
   "metadata": {},
   "outputs": [
    {
     "name": "stdout",
     "output_type": "stream",
     "text": [
      "\n",
      "--- Generating Boxplot ---\n"
     ]
    },
    {
     "data": {
      "image/png": "[encoded data removed]",
      "text/plain": [
       "<Figure size 600x400 with 1 Axes>"
      ]
     },
     "metadata": {},
     "output_type": "display_data"
    }
   ],
   "source": [
    "print(\"\\n--- Generating Boxplot ---\")\n",
    "\n",
    "plt.figure(figsize=(6, 4)) # Set figure size\n",
    "# R: aes(x = Phase, y = Cond2_ratio2)\n",
    "# Py: x='Phase', y='HighGermane_ratio2'\n",
    "sns.boxplot(data=df, x='Phase', y='HighGermane_ratio2')\n",
    "\n",
    "plt.title('High Germane Ratio 2 by Phase') # Add a title\n",
    "sns.despine() # This is similar to theme_minimal()\n",
    "plt.show() # Display the plot"
   ]
  },
  {
   "cell_type": "markdown",
   "id": "e170805e",
   "metadata": {},
   "source": [
    "Between Conditions Key Findings: statistical significance between low and high loads during the training. This difference disappears in the test phase"
   ]
  },
  {
   "cell_type": "markdown",
   "id": "1ac850aa",
   "metadata": {},
   "source": [
    "# High Level Overview:  \n",
    "* Used Shapiro-Wilk test to confirm my data is not normally distributed (low p-value)\n",
    "* Used Wilcoxon, non-parametric tests, instead of t-test\n",
    "* Used Mann-Whitney U to compare train vs. test (within conditions) and found no significant difference\n",
    "* Used Paired Wilcoxon to compare low vs. high and found a significant difference in the train phase that disappears in the test phase"
   ]
  },
  {
   "cell_type": "markdown",
   "id": "371a7892",
   "metadata": {},
   "source": [
    "# Visualize Ratios  \n",
    "Left off on line 82 in R code"
   ]
  },
  {
   "cell_type": "markdown",
   "id": "b6f7c8dd",
   "metadata": {},
   "source": [
    "# Repeat for Gamma"
   ]
  },
  {
   "cell_type": "markdown",
   "id": "a08d3eff",
   "metadata": {},
   "source": [
    "# Correlate with Behavior"
   ]
  }
 ],
 "metadata": {
  "kernelspec": {
   "display_name": "Universal_EEG_Analyzer",
   "language": "python",
   "name": "python3"
  },
  "language_info": {
   "codemirror_mode": {
    "name": "ipython",
    "version": 3
   },
   "file_extension": ".py",
   "mimetype": "text/x-python",
   "name": "python",
   "nbconvert_exporter": "python",
   "pygments_lexer": "ipython3",
   "version": "3.13.2"
  }
 },
 "nbformat": 4,
 "nbformat_minor": 5
}
