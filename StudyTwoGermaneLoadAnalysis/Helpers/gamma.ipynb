{
 "cells": [
  {
   "cell_type": "code",
   "execution_count": 7,
   "id": "fdfe1098",
   "metadata": {},
   "outputs": [
    {
     "name": "stdout",
     "output_type": "stream",
     "text": [
      "Low: 50, High: 50\n",
      "Saved cleaned CSV with 50 rows\n",
      "Saved combined CSV with 50 rows\n"
     ]
    }
   ],
   "source": [
    "from pathlib import Path\n",
    "import pandas as pd\n",
    "\n",
    "base_path = Path(r\"C:\\Users\\Jalynn\\OneDrive\\Documents\\GitHub\\Universal_EEG_Analyzer\\StudyTwoGermaneLoadAnalysis\\GammaResults2\")\n",
    "\n",
    "# Find all CSVs\n",
    "low_files = list(base_path.rglob(\"*LowGermane*_avg_log_z_gamma_power_*.csv\"))\n",
    "high_files = list(base_path.rglob(\"*HighGermane*_avg_log_z_gamma_power_*.csv\"))\n",
    "\n",
    "print(f\"Low: {len(low_files)}, High: {len(high_files)}\")\n",
    "\n",
    "def load_file(f, cond_label):\n",
    "    pid = f.parent.name\n",
    "    phase = \"Train\" if \"train\" in f.name.lower() else \"Test\"\n",
    "    df = pd.read_csv(f)\n",
    "    # rename columns with condition prefix\n",
    "    df = df.rename(columns={\n",
    "        \"Fz\": f\"{cond_label}_Fz\",\n",
    "        \"Cz\": f\"{cond_label}_Cz\",\n",
    "        \"Pz\": f\"{cond_label}_Pz\",\n",
    "        \"ACC_X\": f\"{cond_label}_Acc1\",\n",
    "        \"ACC_Y\": f\"{cond_label}_Acc2\",\n",
    "        \"ACC_Z\": f\"{cond_label}_Acc3\",\n",
    "    })\n",
    "    df[\"PID\"] = pid\n",
    "    df[\"Phase\"] = phase\n",
    "    # only keep first row (each file has one row)\n",
    "    return df.iloc[[0]]\n",
    "\n",
    "# Load all low and high files\n",
    "low_dfs = [load_file(f, \"Cond1\") for f in low_files]\n",
    "high_dfs = [load_file(f, \"Cond2\") for f in high_files]\n",
    "\n",
    "low_df = pd.concat(low_dfs, ignore_index=True)\n",
    "high_df = pd.concat(high_dfs, ignore_index=True)\n",
    "\n",
    "# Merge on PID + Phase\n",
    "final_df = pd.merge(low_df, high_df, on=[\"PID\", \"Phase\"], how=\"outer\")\n",
    "\n",
    "# Optional: rename Phase column to \"Train/Test\" for consistency\n",
    "final_df = final_df.rename(columns={\"Phase\": \"Train/Test\"})\n",
    "\n",
    "# Reorder columns\n",
    "cols_order = [\"PID\", \"Train/Test\"] + \\\n",
    "    [c for c in final_df.columns if c not in [\"PID\", \"Train/Test\"]]\n",
    "final_df = final_df[cols_order]\n",
    "\n",
    "# Assuming `final_df` is your merged dataframe\n",
    "# Drop the extra Condition columns if they exist\n",
    "final_df = final_df.drop(columns=[col for col in final_df.columns if \"Condition\" in col], errors='ignore')\n",
    "\n",
    "# Optionally reorder columns\n",
    "cols_order = [\"PID\", \"Train/Test\"] + [c for c in final_df.columns if c not in [\"PID\",\"Train/Test\"]]\n",
    "final_df = final_df[cols_order]\n",
    "\n",
    "# Save\n",
    "final_df.to_csv(base_path / \"Combined_LowHigh_Gamma_clean.csv\", index=False)\n",
    "print(\"Saved cleaned CSV with\", len(final_df), \"rows\")\n",
    "\n",
    "# Save\n",
    "final_df.to_csv(base_path / \"Combined_LowHigh_Gamma.csv\", index=False)\n",
    "print(\"Saved combined CSV with\", len(final_df), \"rows\")\n"
   ]
  }
 ],
 "metadata": {
  "kernelspec": {
   "display_name": "Universal_EEG_Analyzer",
   "language": "python",
   "name": "python3"
  },
  "language_info": {
   "codemirror_mode": {
    "name": "ipython",
    "version": 3
   },
   "file_extension": ".py",
   "mimetype": "text/x-python",
   "name": "python",
   "nbconvert_exporter": "python",
   "pygments_lexer": "ipython3",
   "version": "3.13.2"
  }
 },
 "nbformat": 4,
 "nbformat_minor": 5
}
